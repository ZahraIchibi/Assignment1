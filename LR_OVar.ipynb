{
 "cells": [
  {
   "cell_type": "markdown",
   "metadata": {},
   "source": [
    "# Assignement 2 - Linear regression with one variable\n",
    "\n",
    "\n",
    "In this second assignment, you will implement linear regression and get to see it work on data. \n",
    "\n",
    "\n",
    "In this part of this exercise, you will implement linear regression with one variable to predict profits for your food company. Suppose you are the CEO of McDonlads and are considering different cities for opening a new outlet. The chain already has trucks in various cities and you have data for profits and populations from the cities.\n",
    "\n",
    "You would like to use this data to help you select which city to expand to next.\n",
    "\n",
    "The file LRdata1.txt contains the dataset for our linear regression problem. The first column is the population of a city and the second column is the profit of a food truck in that city. A negative value for profit indicates that its a loss and its not a good city to gather money.\n",
    "\n",
    "You work is to complete the assignement 2 by filling the missing lines of code\n"
   ]
  },
  {
   "cell_type": "code",
   "execution_count": 3,
   "metadata": {
    "collapsed": true
   },
   "outputs": [],
   "source": [
    "# Some useful libraries to use in this assignment\n",
    "\n",
    "from numpy import loadtxt, zeros, ones, array, linspace, logspace\n",
    "from pylab import scatter, show, title, xlabel, ylabel, plot, contour\n",
    "import matplotlib\n",
    "\n",
    "%matplotlib inline\n",
    "matplotlib.rcParams['figure.figsize'] = (10.0, 8.0)"
   ]
  },
  {
   "cell_type": "markdown",
   "metadata": {},
   "source": [
    "# First step\n",
    "\n",
    "We are going to plot the dataset and see if we can apply linear regression to fit the data."
   ]
  },
  {
   "cell_type": "code",
   "execution_count": 57,
   "metadata": {
    "collapsed": false
   },
   "outputs": [
    {
     "data": {
      "image/png": "[encoded data removed]",
      "text/plain": [
       "<matplotlib.figure.Figure at 0xa362025390>"
      ]
     },
     "metadata": {},
     "output_type": "display_data"
    }
   ],
   "source": [
    "#Load the dataset\n",
    "data = loadtxt('LRdata1.txt', delimiter=',')\n",
    "\n",
    "#Plot the data\n",
    "scatter(data[:, 0], data[:, 1], marker='o', c='b')\n",
    "title('Profits distribution')\n",
    "xlabel('Population of City in 10,000s')\n",
    "ylabel('Profit in 10,000s DH')\n",
    "show()"
   ]
  },
  {
   "cell_type": "markdown",
   "metadata": {},
   "source": [
    "# Question 1\n",
    "\n",
    "You have to complete the function compute_cost that has three parameters: X, y and W"
   ]
  },
  {
   "cell_type": "code",
   "execution_count": 58,
   "metadata": {
    "collapsed": false
   },
   "outputs": [],
   "source": [
    "#Evaluate the linear regression\n",
    "def compute_cost(X, y, W):\n",
    "    '''\n",
    "    This function will compute the cost for your linear regression model\n",
    "    '''\n",
    "    #Number of training samples\n",
    "    m=y.size\n",
    "    # Your code goes here\n",
    "    #h=W.T.dot(X)\n",
    "    h=X.dot(W).flatten()\n",
    "    \n",
    "    \n",
    "    print (\"W :\"+str (W.shape))\n",
    "    print (\"X :\"+ str(X.shape))\n",
    "    #print (h.shape)\n",
    "    print (\"y :\"+ str(y.shape))\n",
    "    print (\"h :\"+ str(h.flatten().shape))\n",
    "    #same dimension as W\n",
    "        \n",
    "    sqError=(h-y)**2\n",
    "    J=(1.0/(2*m))*sqError.sum()\n",
    "        \n",
    "    # End of your code\n",
    "\n",
    "    return J"
   ]
  },
  {
   "cell_type": "code",
   "execution_count": 73,
   "metadata": {
    "collapsed": false
   },
   "outputs": [
    {
     "name": "stdout",
     "output_type": "stream",
     "text": [
      "97\n",
      "W :(2, 1)\n",
      "X :(97, 2)\n",
      "y :(97,)\n",
      "h :(97,)\n"
     ]
    },
    {
     "data": {
      "text/plain": [
       "32.072733877455676"
      ]
     },
     "execution_count": 73,
     "metadata": {},
     "output_type": "execute_result"
    }
   ],
   "source": [
    "X = data[:, 0]\n",
    "y = data[:, 1]\n",
    "\n",
    "#number of training samples\n",
    "m = y.size\n",
    "print (m)\n",
    "#print (X[0:10])\n",
    "#print (y[0:10])\n",
    "\n",
    "\n",
    "#Add a column of ones to X (interception data)\n",
    "new_X = ones(shape=(m, 2))\n",
    "new_X[:, 1] = X\n",
    "\n",
    "#Here, we initialize W parameters by zero\n",
    "W = zeros(shape=(2, 1))\n",
    "\n",
    "compute_cost(new_X, y, W)"
   ]
  },
  {
   "cell_type": "markdown",
   "metadata": {},
   "source": [
    "# Question 2\n",
    "\n",
    "You have to complete the function gradient_descent that has five parameters: X, y, W, alpha and num_iters\n",
    "\n",
    "alpha: the learning rate\n",
    "\n",
    "num_iters: the number of iterations before we find the best parameters Ws."
   ]
  },
  {
   "cell_type": "code",
   "execution_count": 74,
   "metadata": {
    "collapsed": true
   },
   "outputs": [],
   "source": [
    "# This fucntion will compute the gradient descent for your linear regression model\n",
    "\n",
    "def gradient_descent(X, y, W, alpha, num_iters):\n",
    "\n",
    "    m = y.size\n",
    "\n",
    "    for i in range(num_iters):\n",
    "        \n",
    "        \"\"\" \n",
    "            We will use flatten function because it will return a copy of the array collapsed into one dimension.\n",
    "            which will be useful for our problem\n",
    "        \"\"\"\n",
    "        \n",
    "        predictions = X.dot(W).flatten()\n",
    "        \n",
    "        # Your code goes here\n",
    "        \n",
    "        W[0]=W[0]-alpha*((1.0/m)*(predictions-y)).sum()\n",
    "        W[1]=W[1]-alpha*((1.0/m)*(predictions-y)).sum()\n",
    "        # End of your code\n",
    "        J=compute_cost(X,W,y)\n",
    "        print (J) #J should be decrease\n",
    "        \"\"\" it's very useful to print the cost function J in every iteration and see if its decreasing \n",
    "            or increasing (in theory it should decrease)\n",
    "        \"\"\"\n",
    "        \n",
    "    return W"
   ]
  },
  {
   "cell_type": "markdown",
   "metadata": {},
   "source": [
    "# Question 3\n",
    "\n",
    "You have to complete the next cell by giving values to two variables: iterations and alpha."
   ]
  },
  {
   "cell_type": "code",
   "execution_count": 71,
   "metadata": {
    "collapsed": false
   },
   "outputs": [
    {
     "name": "stdout",
     "output_type": "stream",
     "text": [
      "97\n"
     ]
    },
    {
     "ename": "ValueError",
     "evalue": "operands could not be broadcast together with shapes (97,) (97,2) ",
     "output_type": "error",
     "traceback": [
      "\u001b[0;31m---------------------------------------------------------------------------\u001b[0m",
      "\u001b[0;31mValueError\u001b[0m                                Traceback (most recent call last)",
      "\u001b[0;32m<ipython-input-71-73752d8ba2a1>\u001b[0m in \u001b[0;36m<module>\u001b[0;34m()\u001b[0m\n\u001b[1;32m     25\u001b[0m \u001b[1;31m# Your initialization goes here\u001b[0m\u001b[1;33m\u001b[0m\u001b[1;33m\u001b[0m\u001b[0m\n\u001b[1;32m     26\u001b[0m \u001b[1;33m\u001b[0m\u001b[0m\n\u001b[0;32m---> 27\u001b[0;31m \u001b[0mgradient_descent\u001b[0m\u001b[1;33m(\u001b[0m\u001b[0mnew_X\u001b[0m\u001b[1;33m,\u001b[0m \u001b[0my\u001b[0m\u001b[1;33m,\u001b[0m \u001b[0mW\u001b[0m\u001b[1;33m,\u001b[0m \u001b[1;36m0.03\u001b[0m\u001b[1;33m,\u001b[0m \u001b[1;36m1000\u001b[0m\u001b[1;33m)\u001b[0m\u001b[1;33m\u001b[0m\u001b[0m\n\u001b[0m\u001b[1;32m     28\u001b[0m \u001b[1;31m# End of your initialization\u001b[0m\u001b[1;33m\u001b[0m\u001b[1;33m\u001b[0m\u001b[0m\n",
      "\u001b[0;32m<ipython-input-69-fd138d8923bc>\u001b[0m in \u001b[0;36mgradient_descent\u001b[0;34m(X, y, W, alpha, num_iters)\u001b[0m\n\u001b[1;32m     17\u001b[0m \u001b[1;33m\u001b[0m\u001b[0m\n\u001b[1;32m     18\u001b[0m         \u001b[0mW\u001b[0m\u001b[1;33m[\u001b[0m\u001b[1;36m0\u001b[0m\u001b[1;33m]\u001b[0m\u001b[1;33m=\u001b[0m\u001b[0mW\u001b[0m\u001b[1;33m[\u001b[0m\u001b[1;36m0\u001b[0m\u001b[1;33m]\u001b[0m\u001b[1;33m-\u001b[0m\u001b[0malpha\u001b[0m\u001b[1;33m*\u001b[0m\u001b[1;33m(\u001b[0m\u001b[1;36m1.0\u001b[0m\u001b[1;33m/\u001b[0m\u001b[0mm\u001b[0m\u001b[1;33m)\u001b[0m\u001b[1;33m*\u001b[0m\u001b[1;33m(\u001b[0m\u001b[0mpredictions\u001b[0m\u001b[1;33m-\u001b[0m\u001b[0my\u001b[0m\u001b[1;33m)\u001b[0m\u001b[1;33m.\u001b[0m\u001b[0msum\u001b[0m\u001b[1;33m(\u001b[0m\u001b[1;33m)\u001b[0m\u001b[1;33m\u001b[0m\u001b[0m\n\u001b[0;32m---> 19\u001b[0;31m         \u001b[0mW\u001b[0m\u001b[1;33m[\u001b[0m\u001b[1;36m1\u001b[0m\u001b[1;33m]\u001b[0m\u001b[1;33m=\u001b[0m\u001b[0mW\u001b[0m\u001b[1;33m[\u001b[0m\u001b[1;36m1\u001b[0m\u001b[1;33m]\u001b[0m\u001b[1;33m-\u001b[0m\u001b[0malpha\u001b[0m\u001b[1;33m*\u001b[0m\u001b[1;33m(\u001b[0m\u001b[1;33m(\u001b[0m\u001b[1;36m1.0\u001b[0m\u001b[1;33m/\u001b[0m\u001b[0mm\u001b[0m\u001b[1;33m)\u001b[0m\u001b[1;33m*\u001b[0m\u001b[1;33m(\u001b[0m\u001b[0mpredictions\u001b[0m\u001b[1;33m-\u001b[0m\u001b[0my\u001b[0m\u001b[1;33m)\u001b[0m\u001b[1;33m*\u001b[0m\u001b[0mX\u001b[0m\u001b[1;33m)\u001b[0m\u001b[1;33m.\u001b[0m\u001b[0msum\u001b[0m\u001b[1;33m(\u001b[0m\u001b[1;33m)\u001b[0m\u001b[1;33m\u001b[0m\u001b[0m\n\u001b[0m\u001b[1;32m     20\u001b[0m         \u001b[1;31m# End of your code\u001b[0m\u001b[1;33m\u001b[0m\u001b[1;33m\u001b[0m\u001b[0m\n\u001b[1;32m     21\u001b[0m         \u001b[0mJ\u001b[0m\u001b[1;33m=\u001b[0m\u001b[0mcompute_cost\u001b[0m\u001b[1;33m(\u001b[0m\u001b[0mX\u001b[0m\u001b[1;33m,\u001b[0m\u001b[0mW\u001b[0m\u001b[1;33m,\u001b[0m\u001b[0my\u001b[0m\u001b[1;33m)\u001b[0m\u001b[1;33m\u001b[0m\u001b[0m\n",
      "\u001b[0;31mValueError\u001b[0m: operands could not be broadcast together with shapes (97,) (97,2) "
     ]
    }
   ],
   "source": [
    "# The model hyperparameters. Play with them by changing their values and see what happened\n",
    "\"\"\"\n",
    "    In this cell, you should try with different values of the following variables : \n",
    "    - iterations : which will the number of times gradient descent will take before it converges to\n",
    "        the minimum\n",
    "        \n",
    "    - alpha : the learning rate. Try these values : 0.01 and 0.02 and 0.03.\n",
    "\"\"\"\n",
    "X = data[:, 0]\n",
    "y = data[:, 1]\n",
    "\n",
    "#number of training samples\n",
    "m = y.size\n",
    "print (m)\n",
    "#print (X[0:10])\n",
    "#print (y[0:10])\n",
    "\n",
    "\n",
    "#Add a column of ones to X (interception data)\n",
    "new_X = ones(shape=(m, 2))\n",
    "new_X[:, 1] = X\n",
    "\n",
    "#Here, we initialize W parameters by zero\n",
    "W = zeros(shape=(2, 1))\n",
    "# Your initialization goes here\n",
    "\n",
    "gradient_descent(new_X, y, W, 0.03, 1000)\n",
    "# End of your initialization"
   ]
  },
  {
   "cell_type": "markdown",
   "metadata": {},
   "source": [
    "# Question 4\n",
    "\n",
    "You have to complete the next cell by computing the initial cost, after that computing W after apply gradient descent"
   ]
  },
  {
   "cell_type": "code",
   "execution_count": null,
   "metadata": {
    "collapsed": true
   },
   "outputs": [],
   "source": [
    "X = data[:, 0]\n",
    "y = data[:, 1]\n",
    "\n",
    "\n",
    "#number of training samples\n",
    "m = y.size\n",
    "\n",
    "#Add a column of ones to X (interception data)\n",
    "new_X = ones(shape=(m, 2))\n",
    "new_X[:, 1] = X\n",
    "\n",
    "#Here, we initialize W parameters by zero\n",
    "W = zeros(shape=(2, 1))\n",
    "\n",
    "#compute and print the initial cost, W after apply gradient descent\n",
    "\n",
    "# Your ode goes here\n",
    "\n",
    "\n",
    "# End of your code"
   ]
  },
  {
   "cell_type": "markdown",
   "metadata": {},
   "source": [
    "# Question 5\n",
    "\n",
    "You have to complete the next cell by predicting values for population sizes of 1,000 and 5000 and 10000 and 30000 and 50,000 and see what will happen.\n",
    "\n",
    "N.B., Don't foregt to multipy by 10000\n"
   ]
  },
  {
   "cell_type": "code",
   "execution_count": null,
   "metadata": {
    "collapsed": true
   },
   "outputs": [],
   "source": [
    "\n",
    "# Your code goes here\n",
    "    \n",
    "\n",
    "# End of your code"
   ]
  },
  {
   "cell_type": "code",
   "execution_count": null,
   "metadata": {
    "collapsed": true
   },
   "outputs": [],
   "source": [
    "# We will plot the data\n",
    "\n",
    "scatter(data[:, 0], data[:, 1], marker='o', c='b')\n",
    "title('Profits distribution')\n",
    "xlabel('Population of City in 10,000s')\n",
    "ylabel('Profit in 10,000s DH')\n",
    "\n",
    "#Plot the results\n",
    "result = new_X.dot(W).flatten()\n",
    "plot(data[:, 0], result)\n",
    "show()"
   ]
  },
  {
   "cell_type": "code",
   "execution_count": null,
   "metadata": {
    "collapsed": true
   },
   "outputs": [],
   "source": [
    "\"\"\"\n",
    "    This cell is optional and it will plot the contours corresponding to our model\n",
    "\"\"\"\n",
    "\n",
    "W0_cont = linspace(-10, 10, 100)\n",
    "W1_cont = linspace(-1, 4, 100)\n",
    "\n",
    "\n",
    "#initialize J_vals to a matrix of 0's\n",
    "J_cont = zeros(shape=(W0_cont.size, W1_cont.size))\n",
    "\n",
    "#Fill out J_cont\n",
    "for t1, element in enumerate(W0_cont):\n",
    "    for t2, element2 in enumerate(W1_cont):\n",
    "        W_T = zeros(shape=(2, 1))\n",
    "        W_T[0][0] = element\n",
    "        W_T[1][0] = element2\n",
    "        J_cont[t1, t2] = compute_cost(new_X, y, W_T)\n",
    "\n",
    "#Contour plot\n",
    "J_cont = J_cont.T\n",
    "#Plot J_vals as 15 contours spaced logarithmically between 0.01 and 100\n",
    "contour(W0_cont, W1_cont, J_cont, logspace(-2, 3, 20))\n",
    "xlabel('W_0')\n",
    "ylabel('W_1')\n",
    "scatter(W[0][0], W[1][0])\n",
    "show()"
   ]
  },
  {
   "cell_type": "code",
   "execution_count": null,
   "metadata": {
    "collapsed": true
   },
   "outputs": [],
   "source": []
  }
 ],
 "metadata": {
  "anaconda-cloud": {},
  "kernelspec": {
   "display_name": "Python 3",
   "language": "python",
   "name": "python3"
  },
  "language_info": {
   "codemirror_mode": {
    "name": "ipython",
    "version": 3
   },
   "file_extension": ".py",
   "mimetype": "text/x-python",
   "name": "python",
   "nbconvert_exporter": "python",
   "pygments_lexer": "ipython3",
   "version": "3.6.0"
  }
 },
 "nbformat": 4,
 "nbformat_minor": 1
}
